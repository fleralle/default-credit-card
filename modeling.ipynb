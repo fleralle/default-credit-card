{
 "cells": [
  {
   "cell_type": "code",
   "execution_count": 46,
   "metadata": {},
   "outputs": [
    {
     "name": "stdout",
     "output_type": "stream",
     "text": [
      "The autoreload extension is already loaded. To reload it, use:\n",
      "  %reload_ext autoreload\n"
     ]
    }
   ],
   "source": [
    "import pandas as pd\n",
    "import matplotlib.pyplot as plt\n",
    "import seaborn as sns\n",
    "import warnings\n",
    "from utils import print_metrics\n",
    "\n",
    "from sklearn.tree import DecisionTreeClassifier\n",
    "from sklearn.ensemble import RandomForestClassifier, \\\n",
    "AdaBoostClassifier\n",
    "from sklearn.neighbors import KNeighborsClassifier\n",
    "from xgboost import XGBClassifier\n",
    "from sklearn.svm import SVC\n",
    "\n",
    "%matplotlib inline\n",
    "warnings.filterwarnings('ignore')\n",
    "\n",
    "%load_ext autoreload\n",
    "%autoreload 2"
   ]
  },
  {
   "cell_type": "code",
   "execution_count": 47,
   "metadata": {},
   "outputs": [],
   "source": [
    "credits = pd.read_excel('credit-cards.xls', header=1)\n",
    "credits.drop(columns=['ID'], inplace=True)  # Remove ID column"
   ]
  },
  {
   "cell_type": "code",
   "execution_count": 48,
   "metadata": {},
   "outputs": [],
   "source": [
    "from sklearn.pipeline import Pipeline, FeatureUnion, make_pipeline\n",
    "from sklearn.preprocessing import OneHotEncoder, StandardScaler\n",
    "from sklearn.base import BaseEstimator, TransformerMixin\n",
    "from sklearn.neighbors import KNeighborsClassifier\n",
    "\n",
    "class Columns(BaseEstimator, TransformerMixin):\n",
    "    def __init__(self, names=None):\n",
    "        self.names = names\n",
    "\n",
    "    def fit(self, X, y=None, **fit_params):\n",
    "        return self\n",
    "\n",
    "    def transform(self, X):\n",
    "        return X[self.names]\n",
    "\n",
    "numeric = [\n",
    "    'LIMIT_BAL',\n",
    "    'AGE',\n",
    "    'BILL_AMT1',\n",
    "    'BILL_AMT2',\n",
    "    'BILL_AMT3',\n",
    "    'BILL_AMT4',\n",
    "    'BILL_AMT5',\n",
    "    'BILL_AMT6',\n",
    "    'PAY_0',\n",
    "    'PAY_2',\n",
    "    'PAY_3',\n",
    "    'PAY_4',\n",
    "    'PAY_5',\n",
    "    'PAY_6',\n",
    "    'PAY_AMT1',\n",
    "    'PAY_AMT2',\n",
    "    'PAY_AMT3',\n",
    "    'PAY_AMT4',\n",
    "    'PAY_AMT5',\n",
    "    'PAY_AMT6',\n",
    "]\n",
    "categorical = ['SEX', 'EDUCATION', 'MARRIAGE']\n",
    "\n",
    "features = FeatureUnion([\n",
    "        ('numeric', make_pipeline(Columns(names=numeric),StandardScaler())),\n",
    "        ('categorical', make_pipeline(Columns(names=categorical),OneHotEncoder(sparse=False)))\n",
    "    ])\n",
    "pipe = Pipeline([\n",
    "    (\"features\", features),\n",
    "    ('model', KNeighborsClassifier())\n",
    "])"
   ]
  },
  {
   "cell_type": "code",
   "execution_count": 49,
   "metadata": {},
   "outputs": [],
   "source": [
    "from sklearn.model_selection import train_test_split"
   ]
  },
  {
   "cell_type": "code",
   "execution_count": 50,
   "metadata": {},
   "outputs": [],
   "source": [
    "X = credits.iloc[:, :-1]\n",
    "y = credits.iloc[:,-1]\n",
    "\n",
    "X_train, X_test, y_train, y_test = train_test_split(X, y, test_size=.3, random_state=123)"
   ]
  },
  {
   "cell_type": "code",
   "execution_count": 51,
   "metadata": {},
   "outputs": [],
   "source": [
    "pipe.fit(X_train, y_train)\n",
    "\n",
    "y_hat_test = pipe.predict(X_test)"
   ]
  },
  {
   "cell_type": "code",
   "execution_count": 52,
   "metadata": {},
   "outputs": [
    {
     "name": "stdout",
     "output_type": "stream",
     "text": [
      "Precision Score: 0.528169014084507\n",
      "Recall Score: 0.34650924024640656\n",
      "Accuracy Score: 0.7915555555555556\n",
      "F1 Score: 0.4184748915065096\n",
      "ROC_AUC_Score: 0.6305007914221256\n"
     ]
    }
   ],
   "source": [
    "print_metrics(y_test, y_hat_test)"
   ]
  },
  {
   "cell_type": "code",
   "execution_count": 53,
   "metadata": {},
   "outputs": [],
   "source": [
    "# Fix issue with libomp conflicts\n",
    "import os\n",
    "os.environ['KMP_DUPLICATE_LIB_OK']='True'"
   ]
  },
  {
   "cell_type": "code",
   "execution_count": 54,
   "metadata": {},
   "outputs": [
    {
     "name": "stdout",
     "output_type": "stream",
     "text": [
      "Precision Score: 0.6564472497745717\n",
      "Recall Score: 0.3737166324435318\n",
      "Accuracy Score: 0.8221111111111111\n",
      "F1 Score: 0.4762839385017992\n",
      "ROC_AUC_Score: 0.6598447030623784\n"
     ]
    }
   ],
   "source": [
    "from xgboost import XGBClassifier\n",
    "\n",
    "pipe = Pipeline([\n",
    "    (\"features\", features),\n",
    "    ('model', XGBClassifier())\n",
    "])\n",
    "\n",
    "pipe.fit(X_train, y_train)\n",
    "\n",
    "y_hat_test = pipe.predict(X_test)\n",
    "\n",
    "print_metrics(y_test, y_hat_test)"
   ]
  },
  {
   "cell_type": "code",
   "execution_count": null,
   "metadata": {},
   "outputs": [],
   "source": []
  },
  {
   "cell_type": "code",
   "execution_count": 55,
   "metadata": {},
   "outputs": [
    {
     "name": "stdout",
     "output_type": "stream",
     "text": [
      "======================\n",
      "Tested Model:  dt_cls\n",
      "======================\n",
      "Precision Score: 0.38806660499537465\n",
      "Recall Score: 0.4306981519507187\n",
      "Accuracy Score: 0.7297777777777777\n",
      "F1 Score: 0.40827250608272503\n",
      "ROC_AUC_Score: 0.6215458995715023\n",
      "\n",
      "\n",
      "======================\n",
      "Tested Model:  rf_clf\n",
      "======================\n",
      "Precision Score: 0.5772811918063314\n",
      "Recall Score: 0.3182751540041068\n",
      "Accuracy Score: 0.802\n",
      "F1 Score: 0.41032428855062875\n",
      "ROC_AUC_Score: 0.6269481272005786\n",
      "\n",
      "\n",
      "======================\n",
      "Tested Model:  adaboost_clf\n",
      "======================\n",
      "Precision Score: 0.6613756613756614\n",
      "Recall Score: 0.32084188911704314\n",
      "Accuracy Score: 0.8174444444444444\n",
      "F1 Score: 0.4320774282751469\n",
      "ROC_AUC_Score: 0.6377323455795086\n",
      "\n",
      "\n",
      "======================\n",
      "Tested Model:  knn_clf\n",
      "======================\n",
      "Precision Score: 0.528169014084507\n",
      "Recall Score: 0.34650924024640656\n",
      "Accuracy Score: 0.7915555555555556\n",
      "F1 Score: 0.4184748915065096\n",
      "ROC_AUC_Score: 0.6305007914221256\n",
      "\n",
      "\n",
      "======================\n",
      "Tested Model:  xgb_clf\n",
      "======================\n",
      "Precision Score: 0.6564472497745717\n",
      "Recall Score: 0.3737166324435318\n",
      "Accuracy Score: 0.8221111111111111\n",
      "F1 Score: 0.4762839385017992\n",
      "ROC_AUC_Score: 0.6598447030623784\n",
      "\n",
      "\n",
      "======================\n",
      "Tested Model:  sv_clf\n",
      "======================\n",
      "Precision Score: 0.6604146100691016\n",
      "Recall Score: 0.343429158110883\n",
      "Accuracy Score: 0.8196666666666667\n",
      "F1 Score: 0.45187436676798387\n",
      "ROC_AUC_Score: 0.6473243351530025\n",
      "\n",
      "\n"
     ]
    }
   ],
   "source": [
    "tested_models = {\n",
    "    'dt_cls': DecisionTreeClassifier(),\n",
    "    'rf_clf': RandomForestClassifier(),\n",
    "    'adaboost_clf': AdaBoostClassifier(),\n",
    "    'knn_clf': KNeighborsClassifier(),\n",
    "    'xgb_clf': XGBClassifier(),\n",
    "    'sv_clf': SVC()\n",
    "}\n",
    "\n",
    "for model in tested_models:\n",
    "    pipe = Pipeline([\n",
    "        (\"features\", features),\n",
    "        ('model', tested_models[model])\n",
    "    ])\n",
    "\n",
    "    pipe.fit(X_train, y_train)\n",
    "\n",
    "    y_hat_test = pipe.predict(X_test)\n",
    "    \n",
    "    print('======================')\n",
    "    print('Tested Model: ', model)\n",
    "    print('======================')\n",
    "    print_metrics(y_test, y_hat_test)\n",
    "    print('\\n')\n",
    "    \n"
   ]
  },
  {
   "cell_type": "code",
   "execution_count": 56,
   "metadata": {},
   "outputs": [],
   "source": [
    "# Deal with imbalance using SMOTE\n",
    "from imblearn.over_sampling import SMOTE\n",
    "\n",
    "smote = SMOTE(sampling_strategy=1)\n",
    "X_train_resampled, y_train_resampled = smote.fit_sample(X_train, y_train)\n",
    "\n",
    "# Transform resample X_train into DataFrame\n",
    "X_train_resampled = pd.DataFrame(X_train_resampled)\n",
    "X_train_resampled.columns = X.columns"
   ]
  },
  {
   "cell_type": "code",
   "execution_count": 57,
   "metadata": {},
   "outputs": [
    {
     "name": "stdout",
     "output_type": "stream",
     "text": [
      "======================\n",
      "Tested Model:  dt_cls\n",
      "======================\n",
      "Precision Score: 0.33261802575107297\n",
      "Recall Score: 0.47741273100616016\n",
      "Accuracy Score: 0.6795555555555556\n",
      "F1 Score: 0.3920741989881956\n",
      "ROC_AUC_Score: 0.6064034727067102\n",
      "\n",
      "\n",
      "======================\n",
      "Tested Model:  rf_clf\n",
      "======================\n",
      "Precision Score: 0.4631578947368421\n",
      "Recall Score: 0.42915811088295686\n",
      "Accuracy Score: 0.7687777777777778\n",
      "F1 Score: 0.4455102584598987\n",
      "ROC_AUC_Score: 0.6458751416581545\n",
      "\n",
      "\n",
      "======================\n",
      "Tested Model:  adaboost_clf\n",
      "======================\n",
      "Precision Score: 0.41063515509601184\n",
      "Recall Score: 0.5708418891170431\n",
      "Accuracy Score: 0.7297777777777777\n",
      "F1 Score: 0.47766323024054985\n",
      "ROC_AUC_Score: 0.6722615571506941\n",
      "\n",
      "\n",
      "======================\n",
      "Tested Model:  knn_clf\n",
      "======================\n",
      "Precision Score: 0.3598023064250412\n",
      "Recall Score: 0.5605749486652978\n",
      "Accuracy Score: 0.689\n",
      "F1 Score: 0.4382901866345575\n",
      "ROC_AUC_Score: 0.642525137406954\n",
      "\n",
      "\n",
      "======================\n",
      "Tested Model:  xgb_clf\n",
      "======================\n",
      "Precision Score: 0.4467026130236416\n",
      "Recall Score: 0.5528747433264887\n",
      "Accuracy Score: 0.755\n",
      "F1 Score: 0.49415003441156224\n",
      "ROC_AUC_Score: 0.6818542746694837\n",
      "\n",
      "\n",
      "======================\n",
      "Tested Model:  sv_clf\n",
      "======================\n",
      "Precision Score: 0.4304231795653832\n",
      "Recall Score: 0.5795687885010267\n",
      "Accuracy Score: 0.743\n",
      "F1 Score: 0.49398381098227967\n",
      "ROC_AUC_Score: 0.6838569977672463\n",
      "\n",
      "\n"
     ]
    }
   ],
   "source": [
    "for model in tested_models:\n",
    "    pipe = Pipeline([\n",
    "        (\"features\", features),\n",
    "        ('model', tested_models[model])\n",
    "    ])\n",
    "\n",
    "    pipe.fit(X_train_resampled, y_train_resampled)\n",
    "\n",
    "    y_hat_test = pipe.predict(X_test)\n",
    "    \n",
    "    print('======================')\n",
    "    print('Tested Model: ', model)\n",
    "    print('======================')\n",
    "    print_metrics(y_test, y_hat_test)\n",
    "    print('\\n')"
   ]
  },
  {
   "cell_type": "code",
   "execution_count": null,
   "metadata": {},
   "outputs": [
    {
     "name": "stdout",
     "output_type": "stream",
     "text": [
      "Fitting 3 folds for each of 32 candidates, totalling 96 fits\n",
      "[CV] C=1, gamma=1, kernel=linear .....................................\n"
     ]
    },
    {
     "name": "stderr",
     "output_type": "stream",
     "text": [
      "[Parallel(n_jobs=1)]: Using backend SequentialBackend with 1 concurrent workers.\n"
     ]
    }
   ],
   "source": [
    "from sklearn.model_selection import GridSearchCV\n",
    "\n",
    "param_grid = {\n",
    "    'C':[1,10,100,1000],\n",
    "    'gamma':[1,0.1,0.001,0.0001],\n",
    "    'kernel':['linear','rbf']\n",
    "}\n",
    "\n",
    "grid = GridSearchCV(SVC(),param_grid,refit = True, verbose=2)\n",
    "\n",
    "\n",
    "grid.fit(X_train_resampled,y_train_resampled)\n",
    "\n",
    "grid.best_params_"
   ]
  },
  {
   "cell_type": "code",
   "execution_count": 19,
   "metadata": {},
   "outputs": [
    {
     "name": "stdout",
     "output_type": "stream",
     "text": [
      "RandomizedSearchCV took 90.93 seconds for 20 candidates parameter settings.\n",
      "Model with rank: 1\n",
      "Mean validation score: 0.825 (std: 0.063)\n",
      "Parameters: {'bootstrap': False, 'criterion': 'entropy', 'max_depth': None, 'max_features': 4, 'min_samples_split': 5}\n",
      "\n",
      "Model with rank: 2\n",
      "Mean validation score: 0.825 (std: 0.068)\n",
      "Parameters: {'bootstrap': False, 'criterion': 'entropy', 'max_depth': None, 'max_features': 5, 'min_samples_split': 3}\n",
      "\n",
      "Model with rank: 3\n",
      "Mean validation score: 0.823 (std: 0.066)\n",
      "Parameters: {'bootstrap': False, 'criterion': 'gini', 'max_depth': None, 'max_features': 4, 'min_samples_split': 3}\n",
      "\n"
     ]
    }
   ],
   "source": [
    "# specify parameters and distributions to sample from\n",
    "from sklearn.model_selection import RandomizedSearchCV\n",
    "import numpy as np\n",
    "\n",
    "from time import time\n",
    "from scipy.stats import randint as sp_randint\n",
    "\n",
    "\n",
    "param_dist = {\n",
    "    'max_depth': [3, None],\n",
    "    'max_features': sp_randint(1, 11),\n",
    "    'min_samples_split': sp_randint(2, 11),\n",
    "    'bootstrap': [True, False],\n",
    "    'criterion': ['gini', 'entropy']\n",
    "}\n",
    "\n",
    "tuned_models = {\n",
    "#     'dt_cls': DecisionTreeClassifier(),\n",
    "    'rf_clf': RandomForestClassifier(),\n",
    "#     'adaboost_clf': AdaBoostClassifier(),\n",
    "#     'knn_clf': KNeighborsClassifier(),\n",
    "#     'xgb_clf': XGBClassifier(),\n",
    "#     'sv_clf': SVC()\n",
    "}\n",
    "\n",
    "# Utility function to report best scores\n",
    "def report(results, n_top=3):\n",
    "    for i in range(1, n_top + 1):\n",
    "        candidates = np.flatnonzero(results['rank_test_score'] == i)\n",
    "        for candidate in candidates:\n",
    "            print(\"Model with rank: {0}\".format(i))\n",
    "            print(\"Mean validation score: {0:.3f} (std: {1:.3f})\".format(\n",
    "                  results['mean_test_score'][candidate],\n",
    "                  results['std_test_score'][candidate]))\n",
    "            print(\"Parameters: {0}\".format(results['params'][candidate]))\n",
    "            print(\"\")\n",
    "\n",
    "# run randomized search\n",
    "n_iter_search = 20\n",
    "random_search = RandomizedSearchCV(RandomForestClassifier(), param_distributions=param_dist,\n",
    "                                   n_iter=n_iter_search, cv=5, iid=False)\n",
    "\n",
    "start = time()\n",
    "random_search.fit(X_train_resampled, y_train_resampled)\n",
    "print('RandomizedSearchCV took %.2f seconds for %d candidates'\n",
    "      ' parameter settings.' % ((time() - start), n_iter_search))\n",
    "report(random_search.cv_results_)\n",
    "\n"
   ]
  },
  {
   "cell_type": "code",
   "execution_count": 58,
   "metadata": {},
   "outputs": [
    {
     "name": "stdout",
     "output_type": "stream",
     "text": [
      "======================\n",
      "Tested Model:  RF\n",
      "======================\n",
      "Precision Score: 0.43325842696629213\n",
      "Recall Score: 0.4948665297741273\n",
      "Accuracy Score: 0.7505555555555555\n",
      "F1 Score: 0.4620177330457704\n",
      "ROC_AUC_Score: 0.6580260045353904\n",
      "\n",
      "\n"
     ]
    }
   ],
   "source": [
    "pipe = Pipeline([\n",
    "    (\"features\", features),\n",
    "    ('model', RandomForestClassifier(bootstrap=True, criterion='gini', max_depth=None, max_features=5, min_samples_split=9))\n",
    "])\n",
    "\n",
    "pipe.fit(X_train_resampled, y_train_resampled)\n",
    "\n",
    "y_hat_test = pipe.predict(X_test)\n",
    "\n",
    "print('======================')\n",
    "print('Tested Model: ', 'RF')\n",
    "print('======================')\n",
    "print_metrics(y_test, y_hat_test)\n",
    "print('\\n')\n",
    "\n"
   ]
  },
  {
   "cell_type": "code",
   "execution_count": 59,
   "metadata": {},
   "outputs": [
    {
     "name": "stdout",
     "output_type": "stream",
     "text": [
      "RandomizedSearchCV took 44.67 seconds for 20 candidates parameter settings.\n",
      "Model with rank: 1\n",
      "Mean validation score: 0.818 (std: 0.005)\n",
      "Parameters: {'n_estimators': 5, 'learning_rate': 0.01}\n",
      "\n",
      "Model with rank: 1\n",
      "Mean validation score: 0.818 (std: 0.005)\n",
      "Parameters: {'n_estimators': 10, 'learning_rate': 0.01}\n",
      "\n",
      "Model with rank: 1\n",
      "Mean validation score: 0.818 (std: 0.005)\n",
      "Parameters: {'n_estimators': 20, 'learning_rate': 0.01}\n",
      "\n",
      "Model with rank: 1\n",
      "Mean validation score: 0.818 (std: 0.005)\n",
      "Parameters: {'n_estimators': 30, 'learning_rate': 0.01}\n",
      "\n",
      "Model with rank: 1\n",
      "Mean validation score: 0.818 (std: 0.005)\n",
      "Parameters: {'n_estimators': 5, 'learning_rate': 0.05}\n",
      "\n",
      "Model with rank: 1\n",
      "Mean validation score: 0.818 (std: 0.005)\n",
      "Parameters: {'n_estimators': 10, 'learning_rate': 0.05}\n",
      "\n",
      "Model with rank: 1\n",
      "Mean validation score: 0.818 (std: 0.005)\n",
      "Parameters: {'n_estimators': 20, 'learning_rate': 0.05}\n",
      "\n",
      "Model with rank: 1\n",
      "Mean validation score: 0.818 (std: 0.005)\n",
      "Parameters: {'n_estimators': 5, 'learning_rate': 0.1}\n",
      "\n",
      "Model with rank: 1\n",
      "Mean validation score: 0.818 (std: 0.005)\n",
      "Parameters: {'n_estimators': 10, 'learning_rate': 0.1}\n",
      "\n"
     ]
    }
   ],
   "source": [
    "# AdaBoostClassifier(base_estimator=)\n",
    "\n",
    "param_dist = {\n",
    " 'n_estimators': [5, 10, 20, 30],\n",
    " 'learning_rate' : [0.01,0.05,0.1,0.3,1]\n",
    " }\n",
    "\n",
    "# run randomized search\n",
    "n_iter_search = 20\n",
    "random_search = RandomizedSearchCV(AdaBoostClassifier(), param_distributions=param_dist,\n",
    "                                   n_iter=n_iter_search, cv=5, iid=False)\n",
    "\n",
    "start = time()\n",
    "random_search.fit(X_train, y_train)\n",
    "print('RandomizedSearchCV took %.2f seconds for %d candidates'\n",
    "      ' parameter settings.' % ((time() - start), n_iter_search))\n",
    "report(random_search.cv_results_)\n"
   ]
  },
  {
   "cell_type": "code",
   "execution_count": 60,
   "metadata": {},
   "outputs": [
    {
     "name": "stdout",
     "output_type": "stream",
     "text": [
      "======================\n",
      "Tested Model:  AdaBoost\n",
      "======================\n",
      "Precision Score: 0.4171641791044776\n",
      "Recall Score: 0.5739219712525667\n",
      "Accuracy Score: 0.7342222222222222\n",
      "F1 Score: 0.4831460674157304\n",
      "ROC_AUC_Score: 0.676212261859976\n",
      "\n",
      "\n"
     ]
    }
   ],
   "source": [
    "pipe = Pipeline([\n",
    "    (\"features\", features),\n",
    "    ('model', AdaBoostClassifier(learning_rate=.8))\n",
    "])\n",
    "\n",
    "pipe.fit(X_train_resampled, y_train_resampled)\n",
    "\n",
    "y_hat_test = pipe.predict(X_test)\n",
    "\n",
    "print('======================')\n",
    "print('Tested Model: ', 'AdaBoost')\n",
    "print('======================')\n",
    "print_metrics(y_test, y_hat_test)\n",
    "print('\\n')"
   ]
  },
  {
   "cell_type": "code",
   "execution_count": null,
   "metadata": {},
   "outputs": [],
   "source": [
    "# SVC(base_estimator=)\n",
    "\n",
    "# GRID SEARCH FOR 20 COMBINATIONS OF PARAMETERS\n",
    "param_dist = {\n",
    "    \"C\": np.arange(2, 10, 2),\n",
    "    \"gamma\": np.arange(0.1, 1, 0.2)\n",
    "}\n",
    "\n",
    "# run randomized search\n",
    "n_iter_search = 20\n",
    "random_search = RandomizedSearchCV(SVC(), param_distributions=param_dist,\n",
    "                                   n_iter=n_iter_search, cv=5, iid=False)\n",
    "\n",
    "start = time()\n",
    "random_search.fit(X_train_resampled, y_train_resampled)\n",
    "print('RandomizedSearchCV took %.2f seconds for %d candidates'\n",
    "      ' parameter settings.' % ((time() - start), n_iter_search))\n",
    "report(random_search.cv_results_)"
   ]
  }
 ],
 "metadata": {
  "kernelspec": {
   "display_name": "learn-env",
   "language": "python",
   "name": "learn-env"
  },
  "language_info": {
   "codemirror_mode": {
    "name": "ipython",
    "version": 3
   },
   "file_extension": ".py",
   "mimetype": "text/x-python",
   "name": "python",
   "nbconvert_exporter": "python",
   "pygments_lexer": "ipython3",
   "version": "3.7.3"
  }
 },
 "nbformat": 4,
 "nbformat_minor": 2
}
